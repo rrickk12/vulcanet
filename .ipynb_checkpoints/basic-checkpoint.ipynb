{
 "cells": [
  {
   "cell_type": "code",
   "execution_count": 12,
   "metadata": {},
   "outputs": [],
   "source": [
    "import Queue\n",
    "import cmd\n",
    "\n",
    "#This basic application accept commads via cmd module to simulate actions performed by a real device\n",
    "#It handles commands typed in stdin and reports threir results by printing messages to stdout.\n",
    "\n",
    "#this class holds the oprator information and functions\n",
    "class Operator():\n",
    "    def __init__(self,id):\n",
    "        self.id = id\n",
    "        self.state = idle\n",
    "        \n",
    "    def set_state(self,state):\n",
    "        self.state = state\n",
    "        \n",
    "#this class holds the call iunformation and functions        \n",
    "class Call():\n",
    "    def __init__(self,id):\n",
    "        self.id = id\n",
    "        self.state = new\n",
    "        \n",
    "    def set_state(self,state):\n",
    "        self.state = state\n",
    "\n",
    "    \n",
    "\n",
    "class Cmd(cmd.Cmd):\n",
    "    \n",
    "    #makes application receive a call whose id is <id>.\n",
    "    def deliver_func(self,arg):\n",
    "        print(\"Call \"+str(call.id)+\" recieved\")\n",
    "        operator.set_state(\"ringing\")\n",
    "        call.set_state(\"ringing\")\n",
    "        print(\"Call \"+str(call_id)+\" ringing for operator \"+str(operator.id))\n",
    "\n",
    "    def awnser_func(self,arg):\n",
    "        operator.set_state(\"busy\")\n",
    "        call.set_state(\"answered\")\n",
    "        print(\"Call \"+str(call.id)+\" answered by operator \"+str(operator.id))\n",
    "        \n",
    "    def reject_func(self,arg):\n",
    "        operator.set_state(\"available\")\n",
    "        call.set_state(\"rejected\")\n",
    "        print(\"Call \"+str(call.id)+\" rejected by operator \"+str(operator.id))\n",
    "        \n",
    "    def finish_func(self,arg):\n",
    "        operator.set_state(\"available\")\n",
    "        print(\"Call \"+str(call.id)+\"  finished and operator \"+str(operator.id)+\" available\")\n",
    "\n",
    "    "
   ]
  },
  {
   "cell_type": "raw",
   "metadata": {},
   "source": [
    "#there is 3 avaible states to operator\n",
    "- available - idle\n",
    "- ringin - call ahs been delivered but not answered\n",
    "- busy - when its answeing a call\n",
    "\n"
   ]
  },
  {
   "cell_type": "code",
   "execution_count": null,
   "metadata": {},
   "outputs": [],
   "source": []
  }
 ],
 "metadata": {
  "kernelspec": {
   "display_name": "Python 3.7.2 32-bit",
   "language": "python",
   "name": "python37232bitfbf6327dd95241448175bd98884d921a"
  },
  "language_info": {
   "codemirror_mode": {
    "name": "ipython",
    "version": 3
   },
   "file_extension": ".py",
   "mimetype": "text/x-python",
   "name": "python",
   "nbconvert_exporter": "python",
   "pygments_lexer": "ipython3",
   "version": "3.7.2"
  }
 },
 "nbformat": 4,
 "nbformat_minor": 4
}
